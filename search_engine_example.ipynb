{
  "nbformat": 4,
  "nbformat_minor": 0,
  "metadata": {
    "colab": {
      "provenance": [],
      "gpuType": "T4"
    },
    "kernelspec": {
      "name": "python3",
      "display_name": "Python 3"
    },
    "language_info": {
      "name": "python"
    },
    "accelerator": "GPU"
  },
  "cells": [
    {
      "cell_type": "markdown",
      "source": [
        "### Step 0: Installation and imports"
      ],
      "metadata": {
        "id": "4owFxzEHirS9"
      }
    },
    {
      "cell_type": "code",
      "source": [
        "!pip install datasets faiss-cpu langchain langchain_community sentence_transformers bitsandbytes accelerate langchainhub peft"
      ],
      "metadata": {
        "id": "qW48S4LxpIgQ"
      },
      "execution_count": 10,
      "outputs": []
    },
    {
      "cell_type": "code",
      "source": [
        "import sys\n",
        "from googleapiclient.discovery import build\n",
        "from peft import AutoPeftModelForCausalLM\n",
        "import requests\n",
        "from bs4 import BeautifulSoup\n",
        "from langchain_community.document_loaders import TextLoader\n",
        "from langchain_community.embeddings import HuggingFaceEmbeddings\n",
        "from langchain.text_splitter import RecursiveCharacterTextSplitter\n",
        "from langchain_community.vectorstores import Chroma, FAISS\n",
        "import torch\n",
        "from transformers import AutoTokenizer, AutoModelForCausalLM, BitsAndBytesConfig"
      ],
      "metadata": {
        "id": "yFpbhMqcqybB"
      },
      "execution_count": 4,
      "outputs": []
    },
    {
      "cell_type": "markdown",
      "source": [
        "### Step 1: Enter your Google search API key and Search Engine ID"
      ],
      "metadata": {
        "id": "rc_1zSQThG5e"
      }
    },
    {
      "cell_type": "code",
      "source": [
        "def get_google_search_results(search_query):\n",
        "\n",
        "    def google_search(search_term, api_key, cse_id, **kwargs):\n",
        "        service = build(\"customsearch\", \"v1\", developerKey=api_key)\n",
        "        res = service.cse().list(q=search_term, cx=cse_id, **kwargs).execute()\n",
        "        return res['items']\n",
        "\n",
        "    GOOGLE_API_KEY = ''\n",
        "    GOOGLE_SE_ID = ''\n",
        "    results = google_search(search_query, GOOGLE_API_KEY, GOOGLE_SE_ID, num=3)\n",
        "    return results"
      ],
      "metadata": {
        "id": "FRMwVU7-fMQe"
      },
      "execution_count": 5,
      "outputs": []
    },
    {
      "cell_type": "markdown",
      "source": [
        "### Step 2: Parsing webpage to get all textual content\n",
        "\n",
        "Finding the right content for a given query is challenging. Following is a very simple implementation and has the most potential for improvement."
      ],
      "metadata": {
        "id": "ztpygk6RhMh2"
      }
    },
    {
      "cell_type": "code",
      "source": [
        "def get_html_content(urls):\n",
        "\n",
        "    def clean_string(input_string):\n",
        "        import re\n",
        "        cleaned_string = re.sub(r'\\s+', ' ', input_string).strip()\n",
        "        unicode_pattern = re.compile('[^\\x00-\\x7F]+')\n",
        "        cleaned_string = unicode_pattern.sub('', cleaned_string)\n",
        "        return cleaned_string\n",
        "\n",
        "    content = {}\n",
        "    for url in urls:\n",
        "      response = requests.get(url)\n",
        "      html_content = response.text\n",
        "      soup = BeautifulSoup(html_content, 'html.parser')\n",
        "\n",
        "      for script in soup([\"script\", \"style\"]):\n",
        "          script.extract()\n",
        "\n",
        "      text = soup.get_text()\n",
        "\n",
        "      content[url] = clean_string(text)\n",
        "\n",
        "    return content"
      ],
      "metadata": {
        "id": "hrZ3sfOCgr7e"
      },
      "execution_count": 8,
      "outputs": []
    },
    {
      "cell_type": "markdown",
      "source": [
        "### Step 3: Storing Embeddings\n",
        "\n",
        "Here we use FAISS to store embeddings"
      ],
      "metadata": {
        "id": "UdLpo98Dhtks"
      }
    },
    {
      "cell_type": "code",
      "source": [
        "def create_faiss_db(html_content):\n",
        "\n",
        "  with open('tmp_txt_file.txt', 'w') as f:\n",
        "    f.write(html_content)\n",
        "  raw_documents = TextLoader('tmp_txt_file.txt').load()\n",
        "  text_splitter = RecursiveCharacterTextSplitter()\n",
        "  documents = text_splitter.split_documents(raw_documents)\n",
        "  db = FAISS.from_documents(documents, HuggingFaceEmbeddings())\n",
        "\n",
        "  return db"
      ],
      "metadata": {
        "id": "s_6LbjpXgxnd"
      },
      "execution_count": 9,
      "outputs": []
    },
    {
      "cell_type": "markdown",
      "source": [
        "### Step 4: Loading LLM\n",
        "\n",
        "Loading Mistral LLM, you can instead use your own huggingface LLM or use OpenAI completions API"
      ],
      "metadata": {
        "id": "OAxWzDPOh1p7"
      }
    },
    {
      "cell_type": "code",
      "source": [
        "def llm():\n",
        "  bnb_config = BitsAndBytesConfig(\n",
        "      load_in_4bit=True,\n",
        "      bnb_4bit_use_double_quant=True,\n",
        "      bnb_4bit_quant_type=\"nf4\",\n",
        "      bnb_4bit_compute_dtype=torch.bfloat16\n",
        "  )\n",
        "\n",
        "  model_id = \"mistralai/Mistral-7B-Instruct-v0.2\"\n",
        "  model = AutoModelForCausalLM.from_pretrained(model_id, quantization_config=bnb_config)\n",
        "  tokenizer = AutoTokenizer.from_pretrained(model_id)\n",
        "  tokenizer.pad_token = tokenizer.eos_token\n",
        "  return model, tokenizer"
      ],
      "metadata": {
        "id": "feVYK64pg0II"
      },
      "execution_count": null,
      "outputs": []
    },
    {
      "cell_type": "markdown",
      "source": [
        "### Step 6: Querying LLM\n",
        "\n",
        "We use the simplest possible prompt for querying the LLM in a zero shot way"
      ],
      "metadata": {
        "id": "8cjGvEHpiMOr"
      }
    },
    {
      "cell_type": "code",
      "source": [
        "def llm_output(model, tokenizer, search_query, retrieved_docs):\n",
        "  PROMPT= \"\"\" [INST] You are an assistant for search tasks.\n",
        "  Use the following pieces of retrieved context to answer the search query.\n",
        "  If you don't know the answer, or the answer is not in the context, just say that you don't know.\n",
        "  Use less than 3 sentences and keep the answer concise.\n",
        "  [INST]\n",
        "  Search Query: {search_query}\n",
        "  Context: {context}\n",
        "  Answer:\n",
        "  \"\"\"\n",
        "\n",
        "  PROMPT = PROMPT.replace('{context}', retrieved_docs)\n",
        "  PROMPT = PROMPT.replace('{search_query}', search_query)\n",
        "  encodeds = tokenizer(PROMPT, return_tensors=\"pt\", add_special_tokens=True)\n",
        "  model_inputs = encodeds.to('cuda')\n",
        "  generated_ids = model.generate(**model_inputs, max_new_tokens=1000, temperature = 0.1, top_p = 0.95, top_k=40, repetition_penalty=1.2, do_sample=True, pad_token_id=tokenizer.eos_token_id)\n",
        "  decoded = tokenizer.batch_decode(generated_ids)\n",
        "  return(decoded[0])"
      ],
      "metadata": {
        "id": "jYfcwpzMg1tO"
      },
      "execution_count": null,
      "outputs": []
    },
    {
      "cell_type": "markdown",
      "source": [
        "### Step 7: Combining them all"
      ],
      "metadata": {
        "id": "40MsYlpBiXWD"
      }
    },
    {
      "cell_type": "code",
      "source": [
        "def search(search_query, llm, tokenizer):\n",
        "  results = get_google_search_results(search_query)\n",
        "  links = [result['link'] for result in results]\n",
        "  html_content = '\\n'.join(get_html_content(links).values())\n",
        "  faiss_db = create_faiss_db(html_content)\n",
        "  retrieved_docs = \"\\n\".join([doc.page_content for doc in faiss_db.similarity_search(search_query)])[:5000]\n",
        "  llm_out = llm_output(model, tokenizer, search_query, retrieved_docs)\n",
        "  print(llm_out[llm_out.find(\"Answer:\")+len(\"Answer:\"):-4].strip())\n",
        "  return results, links, html_content, faiss_db, retrieved_docs, llm_out"
      ],
      "metadata": {
        "id": "li7cpjBDg3r_"
      },
      "execution_count": null,
      "outputs": []
    },
    {
      "cell_type": "markdown",
      "source": [
        "### Main Code:"
      ],
      "metadata": {
        "id": "Eyl9e5-liaRX"
      }
    },
    {
      "cell_type": "code",
      "source": [
        "torch.cuda.empty_cache()\n",
        "model, tokenizer = llm()"
      ],
      "metadata": {
        "id": "7nxEbKEBg5XS"
      },
      "execution_count": null,
      "outputs": []
    },
    {
      "cell_type": "markdown",
      "source": [
        "### Some search examples:"
      ],
      "metadata": {
        "id": "pkLSCIZbidkl"
      }
    },
    {
      "cell_type": "code",
      "source": [
        "search_query = \"2024 oscar nomination best movie\"\n",
        "results, links, html_content, faiss_db, retrieved_docs, llm_out = search(search_query, model, tokenizer)"
      ],
      "metadata": {
        "colab": {
          "base_uri": "https://localhost:8080/"
        },
        "id": "CJXmn2gusKI8",
        "outputId": "b448dbe1-5e29-493a-cb74-81607d3ea28f"
      },
      "execution_count": null,
      "outputs": [
        {
          "output_type": "stream",
          "name": "stdout",
          "text": [
            "5000\n",
            "<s>  <<SYS>> You are an assistant for search tasks. \n",
            "  Use the following pieces of retrieved context to answer the search query. \n",
            "  If you don't know the answer, or the answer is not in the context, just say that you don't know. \n",
            "  Use three sentences maximum and keep the answer concise.\n",
            "  <</SYS>> \n",
            "  Search Query: 2024 oscar nomination best movie \n",
            "  Context: 2024 Oscars Best Picture Predictions 2024 Oscars Best Picture Predictions × Plus Icon Click to expand the Mega Menu Plus Icon Click to Expand Search Input Have a News Tip? Newsletters Switch edition between U.S. Edition Asia Edition Global Edition U.S. Asia Global Variety Log in Account Variety Digital Variety Archives VIP+ Welcome My Account View Variety Archives View VIP+ Variety Digital Login Variety Digital Subscribe Variety Archives Subscribe VIP+ Subscribe Subscribe Log Out Plus Icon Account Plus Icon Variety Digital Variety Archives VIP+ Welcome My Account View Variety Archives View VIP+ Variety Digital Login Variety Digital Subscribe Variety Archives Subscribe VIP+ Subscribe Subscribe Log Out Log in Account Variety Digital Variety Archives VIP+ Welcome My Account View Variety Archives View VIP+ Variety Digital Login Variety Digital Subscribe Variety Archives Subscribe VIP+ Subscribe Subscribe Log Out Plus Icon Click to expand the Mega Menu Plus Icon Click to Expand Search Input Variety Plus Icon Read Next: Who Was Clara Bow? Taylor Swift Song Sparks Interest in the Rise and Fall of Hollywood’s First ‘It’ Girl Log in Account Variety Digital Variety Archives VIP+ Welcome My Account View Variety Archives View VIP+ Variety Digital Login Variety Digital Subscribe Variety Archives Subscribe VIP+ Subscribe Subscribe Log Out Plus Icon Account Plus Icon Variety Digital Variety Archives VIP+ Welcome My Account View Variety Archives View VIP+ Variety Digital Login Variety Digital Subscribe Variety Archives Subscribe VIP+ Subscribe Subscribe Log Out Plus Icon Film Plus Icon TV Plus Icon What To Watch Plus Icon Music Plus Icon Docs Plus Icon Tech Plus Icon Global Plus Icon Awards Circuit Plus Icon Video Plus Icon What To Hear VIP Home Film Awards Jan 18, 2024 4:55pm PT Oscars: Best Picture – Can Anything Beat ‘Oppenheimer?’ By Clayton Davis Plus Icon Clayton Davis Senior Awards Editor byClaytonDavis Latest Five Oscar Races Are Still Too Close to Call, Including Paul Giamatti vs. Cillian Murphy 2 days ago ‘Spider-Verse’ Directors on What to Expect From Third Movie and Demanding Respect for Animation: ‘Without It, Everybody Hurts’ 2 days ago An Oscar for Best Casting Is Set for 2026 — Will Stunt Workers and Voice Actors Be Next? 2 days ago See All ©Universal/Courtesy Everett Col Variety Awards Circuit section is the home for all awards news and related content throughout the year, featuring the following: the official predictions for the upcoming Oscars, Emmys, Grammys and Tony Awards ceremonies, curated by Variety senior awards editor Clayton Davis. The prediction pages reflect the current standings in the race and do not reflect personal preferences for any individual contender. As other formal (and informal) polls suggest, competitions are fluid and subject to change based on buzz and events. Predictions are updated every Thursday. Visit the prediction pages for the respective ceremonies via the links below: OSCARS | EMMYS | GRAMMYS | TONYS 2024 Oscars Predictions:Best Picture Courtesy of Apple Weekly Commentary (Updated Jan. 29, 2024): More to come. Read: Variety’s Awards Circuit for the latest Oscars predictions in all categories. The 96th Oscars will be held on Sunday, March 10. And the Nominees Are: “Oppenheimer” (Universal Pictures)Emma Thomas, Charles Roven and Christopher Nolan “Killers of the Flower Moon” (Apple Original Films/Paramount Pictures)Dan Friedkin, Bradley Thomas, Martin Scorsese and Daniel Lupi “Poor Things” (Searchlight Pictures)Ed Guiney, Andrew Lowe, Yorgos Lanthimos and Emma Stone “The Holdovers” (Focus Features)Mark Johnson “Barbie” (Warner Bros.)David Heyman, Margot Robbie, Tom Ackerley and Robbie Brenner “Anatomy of a Fall” (Neon)Marie-Ange Luciani and David Thion “American Fiction” (MGM)Ben LeClair, Nikos Karamigios, Cord Jefferson and Jermaine Johnson “Maestro” (Netflix)Bradley Cooper, Steven Spielberg, Fred Berner, Amy Durning and Kristie Macosko Krieger “The Zone of Interest” (A24)James Wilson “Past\n",
            "2024 Oscars Nominations & Winners Predictions For Every Category 2024 Oscars Nominations & Winners Predictions For Every Category × Plus Icon Click to expand the Mega Menu Plus Icon Click to Expand Search Input Have a News Tip? Newsletters Switch edition between U.S. Edition Asia Edition Global Edition U.S. Asia Global Variety Log in Account Variety Digital Variety Archives VIP+ Welcome My Account View Variety Archives View VIP+ Variety Digital Login Variety Digital Subscribe Variety Archives Subscribe VIP+ Subscribe Subscribe Log Out Plus Icon Account Plus Icon Variety Digital Variety Archives VIP+ Welcome My Account View Variety Archives View VIP+ Variety Digital Login Variety Digital Subscribe Variety Archives Subscribe VIP+ Subscribe Subscribe Log Out Log in Account Variety Digital Variety Archives VIP+ Welcome My Account View Variety Archives View VIP+ Variety Digital Login Variety Digital Subscribe Variety Archives Subscribe VIP+ Subscribe Subscribe Log Out Plus Icon Click to exp \n",
            "  Answer:\n",
            "  1. The 2024 Oscars have announced their nominees for Best Picture.\n",
            "  2. Universal Pictures' \"Oppenheimer\" and Apple Original Films/Paramount Pictures' \"Killers of the Flower Moon\" are among the nominated films.\n",
            "  3. Other nominees include \"Poor Things,\" \"The Holdovers,\" \"Barbie,\" and more; the winner will be announced on March 10.</s>\n"
          ]
        }
      ]
    },
    {
      "cell_type": "code",
      "source": [
        "search_query = \"stock price of NVIDIA today\"\n",
        "results, links, html_content, faiss_db, retrieved_docs, llm_out = search(search_query, model, tokenizer)"
      ],
      "metadata": {
        "colab": {
          "base_uri": "https://localhost:8080/"
        },
        "id": "KSzAcg7UmTPN",
        "outputId": "5d369d2b-cc02-488d-a4be-6292b3fb8760"
      },
      "execution_count": null,
      "outputs": [
        {
          "output_type": "stream",
          "name": "stdout",
          "text": [
            "5000\n",
            "<s>  <<SYS>> You are an assistant for search tasks. \n",
            "  Use the following pieces of retrieved context to answer the search query. \n",
            "  If you don't know the answer, or the answer is not in the context, just say that you don't know. \n",
            "  Use three sentences maximum and keep the answer concise.\n",
            "  <</SYS>> \n",
            "  Search Query: stock price of NVIDIA today \n",
            "  Context: NVIDIA Corporation (NVDA) Stock Price, News, Quote & History - Yahoo FinanceHomeMailNewsFinanceSportsEntertainmentSearchMobileMore...Yahoo FinanceSearchSkip to NavigationSkip to Main ContentSkip to Related ContentSign inMailSign in to view your mailFinance HomeWatchlistsMy PortfolioMarketsNewsVideosYahoo Finance PlusScreenersPersonal FinanceCryptoSectorsContact UsWe are experiencing some temporary issues. The market data on this page is currently delayed. Please bear with us as we address this and restore your personalized lists.U.S. markets closedS&P 5005,026.61+28.70(+0.57%)Dow 3038,671.69-54.64(-0.14%)Nasdaq15,990.66+196.95(+1.25%)Russell 20002,009.99+30.29(+1.53%)Crude Oil76.60+0.38(+0.50%)Gold2,038.70-9.20(-0.45%)NVIDIA Corporation (NVDA)NasdaqGS - NasdaqGS Real Time Price. Currency in USDFollowVisitors trend2W10W9M721.33+24.92 (+3.58%)At close: 04:00PM EST721.15 -0.18 (-0.02%)After hours: 08:00PM EST SummaryCompany InsightsChartConversationsStatisticsHistorical DataProfileFinancialsAnalysisOptionsHoldersSustainability1d5d1m6mYTD1y5yMaxFull screenTrade prices are not sourced from all marketsGain actionable insight from technical analysis on financial instruments, to help optimize your trading strategiesChart EventsBearishpattern detectedEngulfing Line (Bearish)View all chart patternsPerformance OutlookShort Term2W - 6WMid Term6W - 9MLong Term9M+Previous Close696.41Open705.33Bid721.06 x 1100Ask721.99 x 1100Day's Range702.12 - 721.8552 Week Range204.21 - 721.85Volume43,159,934Avg. Volume43,422,491Market Cap1.782TBeta (5Y Monthly)1.68PE Ratio (TTM)95.29EPS (TTM)7.57Earnings DateFeb 21, 2024Forward Dividend & Yield0.16 (0.02%)Ex-Dividend DateDec 05, 20231y Target Est660.04Fair Value is the appropriate price for the shares of a company, based on its earnings and growth rate also interpreted as when P/E Ratio = Growth Rate. Estimated return represents the projected annual return you might expect after purchasing shares in the company and holding them over the default time horizon of 5 years, based on the EPS growth rate that we have projected.Fair ValueXX.XXNear Fair Value35% Est. ReturnSubscribe to Yahoo Finance Plus to view Fair Value for NVDALearn moreView detailsResearch that delivers an independent perspective, consistent methodology and actionable insightRelated ResearchNVIDIA CorporationAnalyst Report: NVIDIA CorporationNvidia is a leading developer of graphics processing units. Traditionally, GPUs were used to enhance the experience on computing platforms, most notably in gaming applications on PCs. GPU use cases have since emerged as important semiconductors used in artificial intelligence. Nvidia not only offers AI GPUs, but also a software platform, Cuda, used for AI model development and training. Nvidia is also expanding its data center networking solutions, helping to tie GPUs together to handle complex workloads. RatingFair ValueEconomic Moat16 days agoMorningstarAnalyst Report: NVIDIA CorporationNvidia is a leading developer of graphics processing units. Traditionally, GPUs were used to enhance the experience on computing platforms, most notably in gaming applications on PCs. GPU use cases have since emerged as important semiconductors used in artificial intelligence. Nvidia not only offers AI GPUs, but also a software platform, Cuda, used for AI model development and training. Nvidia is also expanding its data center networking solutions, helping to tie GPUs together to handle complex workloads. 16 days ago•MorningstarView moreAllNewsPress ReleasesResearch ReportsSEC FilingsTheStreetHow soon until the S&P 500 tops 6,000?Stocks could jump as much as 20% for the rest of the year, if the economy stays strong and everything goes absolutely right. Here are the minefields that could stunt the rally, including Fed boss Jerome Powell.Motley FoolBillionaire David Tepper Has Invested 38% of His Portfolio in These 5 Dividend StocksDividends are just a bonus with many of these stocks.Motley FoolThis Top Tech Analyst Says\n",
            "NVDA Stock Price | NVIDIA Corp. Stock Quote (U.S.: Nasdaq) | MarketWatch Skip to main content Main Menu Home Latest News Watchlist Market Data Center U.S. Cryptocurrency Europe Rates Asia Futures Currencies Markets U.S. Markets Europe & Middle East Emerging Markets Market Data Canada Asia Latin America Investing Barron's Best New Ideas Stocks IPOs Mutual Funds ETFs Options Bonds Commodities Currencies Cryptocurrencies Futures Financial Adviser Center Cannabis Newswires Barron's Economy & Politics Washington Watch Coronavirus Inflation The Federal Reserve Economic Report U.S. Economic Calendar Personal Finance The Moneyist Spending & Saving Retirement TaxWatch Credit Cards Careers Travel Real Estate Real Estate Listings Retirement Best New Ideas in Retirement Estate Planning Help Me Retire FIRE Taxes Social Security Real Estate Where Should I Retire? Best Places How to Invest Virtual Stock Exchange Video MarketWatch 25 Years SectorWatch The Moneyist Getting to Work With Explainomics How  \n",
            "  Answer:\n",
            "   Based on the provided context, the stock price of NVIDIA at the close was 721.15 USD and it dropped slightly during after hours to 721.06. The context does not contain up-to-date or real-time NVIDIA stock price information. For the most recent price, please check a reliable finance website or use a financial tool.</s>\n"
          ]
        }
      ]
    },
    {
      "cell_type": "code",
      "source": [
        "search_query = \"top news today\"\n",
        "results, links, html_content, faiss_db, retrieved_docs, llm_out = search(search_query, model, tokenizer)"
      ],
      "metadata": {
        "colab": {
          "base_uri": "https://localhost:8080/"
        },
        "id": "ghXum5aMmf8u",
        "outputId": "51c07c5b-1f0f-4724-bc80-33b8bbbfae86"
      },
      "execution_count": null,
      "outputs": [
        {
          "output_type": "stream",
          "name": "stdout",
          "text": [
            "5000\n",
            "<s>  <<SYS>> You are an assistant for search tasks. \n",
            "  Use the following pieces of retrieved context to answer the search query. \n",
            "  If you don't know the answer, or the answer is not in the context, just say that you don't know. \n",
            "  Use three sentences maximum and keep the answer concise.\n",
            "  <</SYS>> \n",
            "  Search Query: top news today \n",
            "  Context: convicted in a child sexual abuse caseFayaz Aziz / ReutersSudan war is ‘world’s largest child displacement crisis’ with millions facing malnourishment, UNICEF saysUkraine frets as leadership shake-up puts a new general in the firing lineHealthClay Hickson for NBC NewsHealth newsHow to get back on track with your New Year’s resolutionsRicardo Rubio / Europa Press via Getty ImagesHealth newsNovo Nordisk settles two lawsuits over copycat versions of Ozempic and WegovyCourtesy IntuitiveHealth newsRobotic device burned a woman's small intestine during surgery, lawsuit allegesHealth newsCDC report finds teens are using drugs — often alone — to ease anxiety or 'forget bad memories'Health newsFungus that sparked deadly meningitis outbreak aggressively attacked the brainstem Health newsCDC report finds teens are using drugs — often alone — to ease anxiety or 'forget bad memories'Health newsFungus that sparked deadly meningitis outbreak aggressively attacked the brainstem Business & techMichael Nagle / Bloomberg via Getty ImagesMarketsS&P 500 closes above 5,000 for first time ever, notches fifth straight winning weekJeenah Moon / Bloomberg via Getty ImagesNewsInstagram will stop recommending political content Michael Kappeler / dpa via Getty Images fileBusiness NewsBig banks have drastically cut overdraft fees, but customers still paid $2.2B last yearArtificial intelligenceBiden admin announces $5B commitment for research and development of computer chipsSecurityParents struggle to get care after cyberattack on Chicago children's hospitalArtificial intelligenceBiden admin announces $5B commitment for research and development of computer chipsSecurityParents struggle to get care after cyberattack on Chicago children's hospitalSportsMary Altaffer / APSportsFormer Mets GM Billy Eppler suspended by MLB for fabricating player injuriesRonald Martinez / Getty ImagesU.S. newsVanessa Bryant shares emotional speech at Kobe Bryant statue unveilingKyodo via APSportsBaseball's spring training is now starting before the football season even endsOlympicsThe Paris Olympics medals are monumental: They're embedded with pieces of the Eiffel TowerWorldRussian skater tried to blame her grandfather's strawberry dessert for her doping banOlympicsThe Paris Olympics medals are monumental: They're embedded with pieces of the Eiffel TowerWorldRussian skater tried to blame her grandfather's strawberry dessert for her doping banScienceJohn Raoux / APClimate in CrisisNASA climate satellite blasts off to survey oceans and atmosphere of a warming Earth Axiom Space via APSpaceAstronauts from Turkey, Italy and Sweden return to Earth, ending private space station tripGary Hershorn / Getty ImagesPollutionBiden administration cracks down on air pollution, citing links to deadly illnessesClimate in CrisisCategory 6? Climate-boosted hurricanes push scientists to rethink classificationsScience NewsThe Earth's tectonic plates made the Himalayas — and could rip them apartClimate in CrisisCategory 6? Climate-boosted hurricanes push scientists to rethink classificationsScience NewsThe Earth's tectonic plates made the Himalayas — and could rip them apartNBC OUTJohn Hanna / APTransgender KidsKansas AG says schools can't hide trans kids’ gender identities from parentsJohn Phillips / UK Press via Getty ImagesOUT NewsChurch of England says a 'profound disagreement' remains on homosexuality Mark Jarret Chavous / The Enterprise / USA Today NetworkOUT NewsMassachusetts student fights ‘two genders’ shirt ban in U.S. appeals courtUtah State Board of EducationOUT NewsUtah official faces calls to resign after falsely suggesting teen girl is transgenderRead MoreAsian AmericaKelsea Petersen / NBC NewsAsian AmericaIt's the Year of the Dragon and you might get lucky — but there's one catchCourtesy Ish DhawanAsian AmericaThey called school about their missing son — and were transferred to the coronerSantiago Mejia / San Francisco Chronicle via AP fileAsian AmericaHow Lunar New Year came to\n",
            "killed in California helicopter crashNigerian bank CEO, family among the 6 killed in California helicopter crashSoumyabrata Roy / NurPhoto via Getty Images fileOregon's first case of human plague in 8 years likely came from a pet catCalifornia rainstorms brought — and kept — a lake at Death ValleyiLANDNEWSBo Jackson awarded $21 million in Georgia blackmail, stalking case against family members12-year-old died less than 24 hours after he arrived at a camp for troubled youth, officials sayPoliticsNew Jan. 6 footage appears to show rioter firing a gun in the air during Capitol attackNew Jan. 6 footage appears to show rioter firing a gun in the air during Capitol attackWin McNamee / Getty ImagesTrump asks about whereabouts of Nikki Haley’s husband, who’s serving overseasZUMA Press / Alamy Stock PhotoWisconsin GOP Rep. Mike Gallagher won’t run for re-electionNew York special election to replace Santos could further shrink a thin GOP majorityNIGHTLY NEWSNTSB investigates deadly plane crash on Flor \n",
            "  Answer:\n",
            "  1. Biden administration announces $5B commitment for computer chip research and development.\n",
            "  2. Kobe Bryant's widow, Vanessa, shares emotional speech at statue unveiling.\n",
            "  3. Former Mets GM Billy Eppler suspended for fabricating player injuries.\n",
            "\n",
            "  Top News Today:\n",
            "  1. Biden Administration Commits $5B to Computer Chip Research\n",
            "  2. Vanessa Bryant Gives Emotional Speech at Kobe Bryant Statue Unveiling\n",
            "  3. Former Mets GM Billy Eppler Suspended for Fabricating Player Injuries.</s>\n"
          ]
        }
      ]
    }
  ]
}